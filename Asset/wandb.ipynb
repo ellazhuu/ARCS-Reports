{
 "cells": [
  {
   "cell_type": "code",
   "execution_count": null,
   "id": "506b6478-a953-4d34-bdab-316b513caada",
   "metadata": {},
   "outputs": [],
   "source": [
    "!wget https://raw.githubusercontent.com/wandb/edu/main/mlops-001/lesson1/requirements.txt\n",
    "!wget https://raw.githubusercontent.com/wandb/edu/main/mlops-001/lesson1/params.py\n",
    "!wget https://raw.githubusercontent.com/wandb/edu/main/mlops-001/lesson1/utils.py\n",
    "!pip install -r requirements.txt"
   ]
  },
  {
   "cell_type": "code",
   "execution_count": 11,
   "id": "b92960c5-d71c-4d8c-835d-f35959b582ec",
   "metadata": {},
   "outputs": [
    {
     "name": "stderr",
     "output_type": "stream",
     "text": [
      "\u001b[34m\u001b[1mwandb\u001b[0m: \u001b[33mWARNING\u001b[0m Calling wandb.login() after wandb.init() has no effect.\n"
     ]
    },
    {
     "data": {
      "text/plain": [
       "True"
      ]
     },
     "execution_count": 11,
     "metadata": {},
     "output_type": "execute_result"
    }
   ],
   "source": [
    "import wandb\n",
    "from fastai.vision.all import *\n",
    "import params\n",
    "\n",
    "wandb.login()\n"
   ]
  },
  {
   "cell_type": "code",
   "execution_count": null,
   "id": "7e1193b5-f5f4-4f59-8295-a4943a9bc41a",
   "metadata": {},
   "outputs": [],
   "source": [
    "URL = 'https://storage.googleapis.com/wandb_course/bdd_simple_1k.zip'\n",
    "     \n",
    "path = Path(untar_data(URL, force_download=True))\n",
    "\n",
    "path.ls()"
   ]
  },
  {
   "cell_type": "code",
   "execution_count": 12,
   "id": "8fd920e4-aec2-4b6c-8ac4-2924ab166cd9",
   "metadata": {},
   "outputs": [],
   "source": [
    "# setting up variables to use later down the line \n",
    "epochs=10\n",
    "lr=0.01"
   ]
  },
  {
   "cell_type": "code",
   "execution_count": 13,
   "id": "f93c6b37-6214-47f3-876e-6c4e6ba40706",
   "metadata": {},
   "outputs": [
    {
     "data": {
      "text/html": [
       "Finishing last run (ID:e7xybfs3) before initializing another..."
      ],
      "text/plain": [
       "<IPython.core.display.HTML object>"
      ]
     },
     "metadata": {},
     "output_type": "display_data"
    },
    {
     "data": {
      "text/html": [
       "Waiting for W&B process to finish... <strong style=\"color:green\">(success).</strong>"
      ],
      "text/plain": [
       "<IPython.core.display.HTML object>"
      ]
     },
     "metadata": {},
     "output_type": "display_data"
    },
    {
     "data": {
      "text/html": [
       " View run <strong style=\"color:#cdcd00\">earnest-voice-1</strong> at: <a href='https://wandb.ai/jzzo2022/coursetesting/runs/e7xybfs3' target=\"_blank\">https://wandb.ai/jzzo2022/coursetesting/runs/e7xybfs3</a><br/>Synced 5 W&B file(s), 0 media file(s), 0 artifact file(s) and 0 other file(s)"
      ],
      "text/plain": [
       "<IPython.core.display.HTML object>"
      ]
     },
     "metadata": {},
     "output_type": "display_data"
    },
    {
     "data": {
      "text/html": [
       "Find logs at: <code>./wandb/run-20230725_205140-e7xybfs3/logs</code>"
      ],
      "text/plain": [
       "<IPython.core.display.HTML object>"
      ]
     },
     "metadata": {},
     "output_type": "display_data"
    },
    {
     "data": {
      "text/html": [
       "Successfully finished last run (ID:e7xybfs3). Initializing new run:<br/>"
      ],
      "text/plain": [
       "<IPython.core.display.HTML object>"
      ]
     },
     "metadata": {},
     "output_type": "display_data"
    },
    {
     "data": {
      "text/html": [
       "wandb version 0.15.7 is available!  To upgrade, please run:\n",
       " $ pip install wandb --upgrade"
      ],
      "text/plain": [
       "<IPython.core.display.HTML object>"
      ]
     },
     "metadata": {},
     "output_type": "display_data"
    },
    {
     "data": {
      "text/html": [
       "Tracking run with wandb version 0.15.5"
      ],
      "text/plain": [
       "<IPython.core.display.HTML object>"
      ]
     },
     "metadata": {},
     "output_type": "display_data"
    },
    {
     "data": {
      "text/html": [
       "Run data is saved locally in <code>/Users/ellazhu/wandb/run-20230725_205750-5msnh8bw</code>"
      ],
      "text/plain": [
       "<IPython.core.display.HTML object>"
      ]
     },
     "metadata": {},
     "output_type": "display_data"
    },
    {
     "data": {
      "text/html": [
       "Syncing run <strong><a href='https://wandb.ai/jzzo2022/coursetesting/runs/5msnh8bw' target=\"_blank\">major-brook-2</a></strong> to <a href='https://wandb.ai/jzzo2022/coursetesting' target=\"_blank\">Weights & Biases</a> (<a href='https://wandb.me/run' target=\"_blank\">docs</a>)<br/>"
      ],
      "text/plain": [
       "<IPython.core.display.HTML object>"
      ]
     },
     "metadata": {},
     "output_type": "display_data"
    },
    {
     "data": {
      "text/html": [
       " View project at <a href='https://wandb.ai/jzzo2022/coursetesting' target=\"_blank\">https://wandb.ai/jzzo2022/coursetesting</a>"
      ],
      "text/plain": [
       "<IPython.core.display.HTML object>"
      ]
     },
     "metadata": {},
     "output_type": "display_data"
    },
    {
     "data": {
      "text/html": [
       " View run at <a href='https://wandb.ai/jzzo2022/coursetesting/runs/5msnh8bw' target=\"_blank\">https://wandb.ai/jzzo2022/coursetesting/runs/5msnh8bw</a>"
      ],
      "text/plain": [
       "<IPython.core.display.HTML object>"
      ]
     },
     "metadata": {},
     "output_type": "display_data"
    }
   ],
   "source": [
    "run = wandb.init(\n",
    "    # Set the project where this run will be logged\n",
    "    project=\"coursetesting\",\n",
    "    entity=\"jzzo2022\",\n",
    "    notes=\"testing how to create wandb project\",\n",
    "    \n",
    "    # Track hyperparameters and run metadata\n",
    "    config={\n",
    "        \"learning_rate\": lr,\n",
    "        \"epochs\": epochs,\n",
    "    })\n"
   ]
  },
  {
   "cell_type": "code",
   "execution_count": 14,
   "id": "2b487d4d-2d7a-4af4-9e7b-00716bbe4660",
   "metadata": {},
   "outputs": [
    {
     "name": "stdout",
     "output_type": "stream",
     "text": [
      "lr: 0.01\n",
      "epoch=2, accuracy=0.29685933352613203, loss=0.6558814419602945\n",
      "epoch=3, accuracy=0.6711914451791063, loss=0.41100186150250034\n",
      "epoch=4, accuracy=0.820364886865218, loss=0.26898840686249226\n",
      "epoch=5, accuracy=0.8508817626177106, loss=0.10959729620183496\n",
      "epoch=6, accuracy=0.8586366419404908, loss=0.12116515853639881\n",
      "epoch=7, accuracy=0.8515204621250916, loss=0.11623300427586072\n",
      "epoch=8, accuracy=0.8927724247076573, loss=0.01819351850271611\n",
      "epoch=9, accuracy=0.9161624273595114, loss=0.01672795303792888\n"
     ]
    },
    {
     "data": {
      "text/plain": [
       "<Artifact source-coursetesting-wandb.ipynb>"
      ]
     },
     "execution_count": 14,
     "metadata": {},
     "output_type": "execute_result"
    }
   ],
   "source": [
    "offset = random.random() / 5\n",
    "print(f\"lr: {lr}\")\n",
    "\n",
    "# simulating a training run\n",
    "for epoch in range(2, epochs):\n",
    "    acc = 1 - 2 ** -epoch - random.random() / epoch - offset\n",
    "    loss = 2 ** -epoch + random.random() / epoch + offset\n",
    "    print(f\"epoch={epoch}, accuracy={acc}, loss={loss}\")\n",
    "    wandb.log({\"accuracy\": acc, \"loss\": loss})\n",
    "\n",
    "run.log_code()\n",
    "\n"
   ]
  },
  {
   "cell_type": "code",
   "execution_count": null,
   "id": "6d10cd3d-a3e0-4276-aab9-9cb757043e81",
   "metadata": {},
   "outputs": [],
   "source": []
  }
 ],
 "metadata": {
  "kernelspec": {
   "display_name": "Python 3 (ipykernel)",
   "language": "python",
   "name": "python3"
  },
  "language_info": {
   "codemirror_mode": {
    "name": "ipython",
    "version": 3
   },
   "file_extension": ".py",
   "mimetype": "text/x-python",
   "name": "python",
   "nbconvert_exporter": "python",
   "pygments_lexer": "ipython3",
   "version": "3.11.4"
  }
 },
 "nbformat": 4,
 "nbformat_minor": 5
}
